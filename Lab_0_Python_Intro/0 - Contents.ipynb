{
 "cells": [
  {
   "cell_type": "markdown",
   "metadata": {},
   "source": [
    "# An Introduction to Python\n",
    "\n",
    "Welcome to [Applied Deep Learning (ADP)](https://comsm0018-applied-deep-learning.github.io/). \n",
    "\n",
    "Throughout the course we'll be asking you to train neural networks using [Tensorflow](https://www.tensorflow.org/), a popular numerical computing library with good support for machine learning. Tensorflow has [bindings to many languages](https://www.tensorflow.org/extend/language_bindings), however Python is by far and away the most well supported language. All the Tensorflow docs use Python and most of the tutorials you can find will be in Python so we too have chosen Python for the course. \n",
    "\n",
    "\n",
    "The goal of this labsheet is to help you setup an environment for developing Python and familiarise yourself with the language to prepare you for training a simple convolutional neural network on the MNIST dataset in the next lab session."
   ]
  },
  {
   "cell_type": "markdown",
   "metadata": {},
   "source": [
    "We will guide you through the following topics:\n",
    "\n",
    "1. [Installation](./1 - Installation.ipynb)\n",
    "2. [Introduction to Jupyter & IPython](./2 - Jupyter.ipynb)\n",
    "3. [The Python Language](./3 - The Python Language.ipynb)\n",
    "4. [The Python Standard Library](./4 - The Standard Library.ipynb)\n",
    "5. [Python Tooling](./5 - Tooling - IDEs and Editors.ipynb)\n",
    "6. [The Scientific Python ecosystem](./6 - Scientific Python Libraries.ipynb)"
   ]
  }
 ],
 "metadata": {
  "kernelspec": {
   "display_name": "Python 2",
   "language": "python",
   "name": "python2"
  },
  "language_info": {
   "codemirror_mode": {
    "name": "ipython",
    "version": 2
   },
   "file_extension": ".py",
   "mimetype": "text/x-python",
   "name": "python",
   "nbconvert_exporter": "python",
   "pygments_lexer": "ipython2",
   "version": "2.7.14"
  }
 },
 "nbformat": 4,
 "nbformat_minor": 2
}
