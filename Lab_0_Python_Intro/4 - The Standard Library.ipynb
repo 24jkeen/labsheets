{
 "cells": [
  {
   "cell_type": "markdown",
   "metadata": {},
   "source": [
    "# Do I need to read this?\n",
    "\n",
    "Read this if any of the following statements of your knowledge are *not* true\n",
    "\n",
    "* Can get cli arguments inside a script\n",
    "* Know what a `defaultdict` is \n",
    "* Know how to compute the permutations of a list using `itertools`\n",
    "* Can dump a python object to disk using `cPickle`\n",
    "* Can construct a cli argument parser using `argparse`\n",
    "* Know what `doctest` is and how it can be helpful for testing functions\n",
    "* Can log using `logging` and know when `print` should be used and when logging methods should be used\n",
    "* Know how to use the python debugger called `pdb` and use it within Jupyter."
   ]
  },
  {
   "cell_type": "markdown",
   "metadata": {},
   "source": [
    "# Introduction to the standard library"
   ]
  },
  {
   "cell_type": "markdown",
   "metadata": {},
   "source": [
    "Python's philosophy to the standard library is \"batteries included\", i.e. it has *a lot* of stuff!\n",
    "\n",
    "Peruse [The Python Standard Library](https://docs.python.org/2/library/index.html) table of contents just to see the breadth and depth of the included features.\n",
    "\n",
    "We'll take a look at few of the modules inside the standard library that may well be of use throughout the course:\n",
    "\n",
    "* [`sys`](https://docs.python.org/2/library/sys.html)\n",
    "* [`os`](https://docs.python.org/2/library/os.html) (in particular, [`os.path`](https://docs.python.org/2/library/os.path.html#module-os.path))\n",
    "* [`collections`](https://docs.python.org/2/library/collections.html)\n",
    "* [`random`](https://docs.python.org/2/library/random.html)\n",
    "* [`itertools`](https://docs.python.org/2/library/itertools.html)\n",
    "* [`functools`](https://docs.python.org/2/library/functools.html)\n",
    "* [`tempfile`](https://docs.python.org/2/library/tempfile.html)\n",
    "* [`cPickle`](https://docs.python.org/2/library/pickle.html#module-cPickle)\n",
    "* [`argparse`](https://docs.python.org/2/library/argparse.html)\n",
    "* [`logging`](https://docs.python.org/2/library/logging.html)\n",
    "* [`subprocess`](https://docs.python.org/2/library/subprocess.html)\n",
    "* [`doctest`](https://docs.python.org/2/library/doctest.html)\n",
    "* [`pdb`](https://docs.python.org/2/library/pdb.html)\n"
   ]
  },
  {
   "cell_type": "markdown",
   "metadata": {},
   "source": [
    "## `sys`\n",
    "\n",
    "This module provides a bunch of useful things like `sys.argv`, `sys.argc`, `sys.exit`, `sys.maxint`, `sys.path`, `sys.stdin`, `sys.stdout`, `sys.stderr`; all of which are fairly self explanatory."
   ]
  },
  {
   "cell_type": "markdown",
   "metadata": {},
   "source": [
    "## `os`\n",
    "\n",
    "\n",
    "This module provides operating specific functionality, one of the main sub modules being `os.path` for path manipulation. \n"
   ]
  },
  {
   "cell_type": "code",
   "execution_count": 1,
   "metadata": {},
   "outputs": [],
   "source": [
    "import os"
   ]
  },
  {
   "cell_type": "code",
   "execution_count": 2,
   "metadata": {},
   "outputs": [
    {
     "data": {
      "text/plain": [
       "'/usr/bin:/home/will/.nvm/versions/node/v6.11.3/bin:/home/will/.gem/ruby/2.4.0/bin:/home/will/.yarn/bin:/home/will/.pyenv/shims:/opt/sonar-scanner/bin:/home/will/.local/bin:/home/will/.gem/ruby/2.4.0/bin:/home/will/.gem/ruby/2.3.0/bin:/home/will/.bin:/home/will/code/go/bin:/home/will/.fzf/bin:/home/will/.gem/ruby/2.4.0/bin:/home/will/.yarn/bin:/home/will/.pyenv/shims:/opt/sonar-scanner/bin:/home/will/.local/bin:/home/will/.gem/ruby/2.4.0/bin:/home/will/.gem/ruby/2.3.0/bin:/home/will/.bin:/home/will/code/go/bin:/home/will/.cargo/bin:/opt/google-cloud-sdk/bin:/usr/local/sbin:/usr/local/bin:/usr/bin:/opt/android-sdk/platform-tools:/opt/android-sdk/tools:/opt/android-sdk/tools/bin:/opt/COMODO:/opt/cxoffice/bin:/usr/lib/jvm/default/bin:/opt/opencascade/bin:/usr/bin/site_perl:/usr/bin/vendor_perl:/usr/bin/core_perl:/opt/sonar-scanner/bin:/usr/lib/jvm/default/bin:/usr/bin/site_perl:/usr/bin/vendor_perl:/usr/bin/core_perl:/usr/lib/jvm/default/bin'"
      ]
     },
     "execution_count": 2,
     "metadata": {},
     "output_type": "execute_result"
    }
   ],
   "source": [
    "os.environ['PATH']"
   ]
  },
  {
   "cell_type": "code",
   "execution_count": 3,
   "metadata": {},
   "outputs": [
    {
     "name": "stdout",
     "output_type": "stream",
     "text": [
      "NEW_ENV_VAR not present in environment\n",
      "1234\n"
     ]
    }
   ],
   "source": [
    "try:\n",
    "    del os.environ['NEW_ENV_VAR'] # clear env var if already present\n",
    "except KeyError:\n",
    "    pass\n",
    "\n",
    "try:\n",
    "    print(os.environ['NEW_ENV_VAR'])\n",
    "except KeyError:\n",
    "    print('NEW_ENV_VAR not present in environment')\n",
    "    \n",
    "os.environ['NEW_ENV_VAR'] = '1234'\n",
    "\n",
    "print(os.environ['NEW_ENV_VAR'])"
   ]
  },
  {
   "cell_type": "code",
   "execution_count": 4,
   "metadata": {},
   "outputs": [
    {
     "data": {
      "text/plain": [
       "('Linux',\n",
       " 'petal',\n",
       " '4.13.3-1-ARCH',\n",
       " '#1 SMP PREEMPT Thu Sep 21 20:33:16 CEST 2017',\n",
       " 'x86_64')"
      ]
     },
     "execution_count": 4,
     "metadata": {},
     "output_type": "execute_result"
    }
   ],
   "source": [
    "os.uname()"
   ]
  },
  {
   "cell_type": "code",
   "execution_count": 5,
   "metadata": {},
   "outputs": [
    {
     "name": "stdout",
     "output_type": "stream",
     "text": [
      "Hello World\n"
     ]
    }
   ],
   "source": [
    "with os.tmpfile() as f:\n",
    "    f.write('Hello World')\n",
    "    f.seek(0)\n",
    "    for line in f.readlines():\n",
    "        print(line)"
   ]
  },
  {
   "cell_type": "code",
   "execution_count": 6,
   "metadata": {},
   "outputs": [
    {
     "name": "stdout",
     "output_type": "stream",
     "text": [
      "/home/will/cloud/teaching/adl/public-labsheets/Lab_0_Python_Intro\n",
      "/tmp\n"
     ]
    }
   ],
   "source": [
    "print(os.getcwd())\n",
    "os.chdir('/tmp')\n",
    "print(os.getcwd())"
   ]
  },
  {
   "cell_type": "code",
   "execution_count": 7,
   "metadata": {},
   "outputs": [
    {
     "name": "stdout",
     "output_type": "stream",
     "text": [
      "total 0\r\n",
      "drwxr-xr-x  2 will will   40 Oct  2 21:47 .\r\n",
      "drwxrwxrwt 19 root root 1220 Oct  2 21:47 ..\r\n"
     ]
    }
   ],
   "source": [
    "try:\n",
    "    os.mkdir('/tmp/new-temp')\n",
    "except OSError:\n",
    "    pass\n",
    "\n",
    "!ls -al /tmp/new-temp"
   ]
  },
  {
   "cell_type": "code",
   "execution_count": 8,
   "metadata": {},
   "outputs": [
    {
     "name": "stdout",
     "output_type": "stream",
     "text": [
      "rm: cannot remove '/tmp/new': No such file or directory\r\n",
      "os.mkdir can't handle creation of nested directories\n",
      "but os.makedirs can\n",
      "/tmp/new\r\n",
      "/tmp/new/nested\r\n",
      "/tmp/new/nested/directories\r\n"
     ]
    }
   ],
   "source": [
    "!rm -r /tmp/new\n",
    "\n",
    "try:\n",
    "    os.mkdir('/tmp/new/nested/directories')\n",
    "except OSError:\n",
    "    print(\"os.mkdir can't handle creation of nested directories\")\n",
    "    \n",
    "os.makedirs('/tmp/new/nested/directories')\n",
    "print(\"but os.makedirs can\")\n",
    "\n",
    "!find /tmp/new"
   ]
  },
  {
   "cell_type": "code",
   "execution_count": 9,
   "metadata": {},
   "outputs": [
    {
     "data": {
      "text/plain": [
       "1000"
      ]
     },
     "execution_count": 9,
     "metadata": {},
     "output_type": "execute_result"
    }
   ],
   "source": [
    "os.getuid()"
   ]
  },
  {
   "cell_type": "code",
   "execution_count": 10,
   "metadata": {},
   "outputs": [
    {
     "data": {
      "text/plain": [
       "25779"
      ]
     },
     "execution_count": 10,
     "metadata": {},
     "output_type": "execute_result"
    }
   ],
   "source": [
    "os.getppid()"
   ]
  },
  {
   "cell_type": "code",
   "execution_count": 11,
   "metadata": {},
   "outputs": [
    {
     "data": {
      "text/plain": [
       "'/'"
      ]
     },
     "execution_count": 11,
     "metadata": {},
     "output_type": "execute_result"
    }
   ],
   "source": [
    "# filesystem path separator\n",
    "os.sep"
   ]
  },
  {
   "cell_type": "code",
   "execution_count": 12,
   "metadata": {},
   "outputs": [
    {
     "data": {
      "text/plain": [
       "':'"
      ]
     },
     "execution_count": 12,
     "metadata": {},
     "output_type": "execute_result"
    }
   ],
   "source": [
    "# Path separator for PATH variable\n",
    "os.pathsep"
   ]
  },
  {
   "cell_type": "code",
   "execution_count": 13,
   "metadata": {},
   "outputs": [
    {
     "data": {
      "text/plain": [
       "'\\n'"
      ]
     },
     "execution_count": 13,
     "metadata": {},
     "output_type": "execute_result"
    }
   ],
   "source": [
    "# Line separator \\n on linux, and \\r\\n on windos\n",
    "os.linesep"
   ]
  },
  {
   "cell_type": "code",
   "execution_count": 14,
   "metadata": {},
   "outputs": [
    {
     "data": {
      "text/plain": [
       "'/dev/null'"
      ]
     },
     "execution_count": 14,
     "metadata": {},
     "output_type": "execute_result"
    }
   ],
   "source": [
    "# path to null device\n",
    "os.devnull"
   ]
  },
  {
   "cell_type": "markdown",
   "metadata": {},
   "source": [
    "## `os.path`\n",
    "\n",
    "This module is a submodule of the `os` module and contains a high level interface for path manipulations, it has been superseded by `pathlib` in python 3."
   ]
  },
  {
   "cell_type": "code",
   "execution_count": 15,
   "metadata": {},
   "outputs": [],
   "source": [
    "import os.path\n",
    "\n",
    "os.chdir(os.path.expanduser(\"~\"))"
   ]
  },
  {
   "cell_type": "code",
   "execution_count": 16,
   "metadata": {},
   "outputs": [
    {
     "data": {
      "text/plain": [
       "'/home/will/folder'"
      ]
     },
     "execution_count": 16,
     "metadata": {},
     "output_type": "execute_result"
    }
   ],
   "source": [
    "os.path.abspath(\"folder\")"
   ]
  },
  {
   "cell_type": "code",
   "execution_count": 17,
   "metadata": {},
   "outputs": [
    {
     "data": {
      "text/plain": [
       "'/home/will/a/b/c'"
      ]
     },
     "execution_count": 17,
     "metadata": {},
     "output_type": "execute_result"
    }
   ],
   "source": [
    "os.path.join(os.getcwd(), 'a', 'b', 'c')"
   ]
  },
  {
   "cell_type": "code",
   "execution_count": 18,
   "metadata": {},
   "outputs": [
    {
     "data": {
      "text/plain": [
       "False"
      ]
     },
     "execution_count": 18,
     "metadata": {},
     "output_type": "execute_result"
    }
   ],
   "source": [
    "os.path.exists('/tmp/does-not-exist')"
   ]
  },
  {
   "cell_type": "code",
   "execution_count": 19,
   "metadata": {},
   "outputs": [
    {
     "data": {
      "text/plain": [
       "True"
      ]
     },
     "execution_count": 19,
     "metadata": {},
     "output_type": "execute_result"
    }
   ],
   "source": [
    "os.path.exists('/tmp/')"
   ]
  },
  {
   "cell_type": "code",
   "execution_count": 20,
   "metadata": {},
   "outputs": [
    {
     "data": {
      "text/plain": [
       "'/home/will/$HOME/asdf'"
      ]
     },
     "execution_count": 20,
     "metadata": {},
     "output_type": "execute_result"
    }
   ],
   "source": [
    "os.path.abspath('$HOME/asdf')"
   ]
  },
  {
   "cell_type": "code",
   "execution_count": 21,
   "metadata": {},
   "outputs": [
    {
     "data": {
      "text/plain": [
       "'/home/will/asdf'"
      ]
     },
     "execution_count": 21,
     "metadata": {},
     "output_type": "execute_result"
    }
   ],
   "source": [
    "os.path.abspath(os.path.expandvars('$HOME/asdf'))"
   ]
  },
  {
   "cell_type": "code",
   "execution_count": 22,
   "metadata": {},
   "outputs": [
    {
     "data": {
      "text/plain": [
       "'/home/will/asdf/$VAR'"
      ]
     },
     "execution_count": 22,
     "metadata": {},
     "output_type": "execute_result"
    }
   ],
   "source": [
    "os.path.abspath(os.path.expanduser('~/asdf/$VAR'))"
   ]
  },
  {
   "cell_type": "code",
   "execution_count": 23,
   "metadata": {},
   "outputs": [
    {
     "data": {
      "text/plain": [
       "'/home/will/a/b'"
      ]
     },
     "execution_count": 23,
     "metadata": {},
     "output_type": "execute_result"
    }
   ],
   "source": [
    "os.environ['VAR'] = 'b'\n",
    "path = os.path.expanduser(os.path.expandvars('~/a/$VAR'))\n",
    "del os.environ['VAR']\n",
    "path"
   ]
  },
  {
   "cell_type": "code",
   "execution_count": 24,
   "metadata": {},
   "outputs": [
    {
     "data": {
      "text/plain": [
       "'/tmp'"
      ]
     },
     "execution_count": 24,
     "metadata": {},
     "output_type": "execute_result"
    }
   ],
   "source": [
    "os.path.dirname('/tmp/script.py')"
   ]
  },
  {
   "cell_type": "code",
   "execution_count": 25,
   "metadata": {},
   "outputs": [
    {
     "data": {
      "text/plain": [
       "'script.py'"
      ]
     },
     "execution_count": 25,
     "metadata": {},
     "output_type": "execute_result"
    }
   ],
   "source": [
    "os.path.basename('/tmp/script.py')"
   ]
  },
  {
   "cell_type": "code",
   "execution_count": 26,
   "metadata": {},
   "outputs": [
    {
     "data": {
      "text/plain": [
       "('/tmp/a/b/c', 'd')"
      ]
     },
     "execution_count": 26,
     "metadata": {},
     "output_type": "execute_result"
    }
   ],
   "source": [
    "os.path.split('/tmp/a/b/c/d')"
   ]
  },
  {
   "cell_type": "code",
   "execution_count": 27,
   "metadata": {},
   "outputs": [
    {
     "data": {
      "text/plain": [
       "('/tmp/a/b/c/d', '')"
      ]
     },
     "execution_count": 27,
     "metadata": {},
     "output_type": "execute_result"
    }
   ],
   "source": [
    "os.path.split('/tmp/a/b/c/d/')"
   ]
  },
  {
   "cell_type": "code",
   "execution_count": 28,
   "metadata": {},
   "outputs": [
    {
     "data": {
      "text/plain": [
       "('/etc/systemd/',\n",
       " ['user', 'system', 'network'],\n",
       " ['timesyncd.conf',\n",
       "  'journal-upload.conf',\n",
       "  'journald.conf',\n",
       "  'coredump.conf',\n",
       "  'logind.conf',\n",
       "  'journal-remote.conf',\n",
       "  'system.conf',\n",
       "  'user.conf',\n",
       "  'resolved.conf'])"
      ]
     },
     "execution_count": 28,
     "metadata": {},
     "output_type": "execute_result"
    }
   ],
   "source": [
    "def walker(dirname, names):\n",
    "    # do something with dirname and names\n",
    "    return dirname, names\n",
    "    \n",
    "list(os.walk('/etc/systemd/', walker))[0]"
   ]
  },
  {
   "cell_type": "markdown",
   "metadata": {},
   "source": [
    "---"
   ]
  },
  {
   "cell_type": "markdown",
   "metadata": {},
   "source": [
    "## `collections`\n",
    "\n",
    "The python collections module is similar to the Java collections API providing a variety of data structures.\n",
    "\n",
    "| Data structure name | Description |\n",
    "|---------------------|-------------|\n",
    "| `namedtuple()`      | factory function for creating tuple subclasses with named fields |\n",
    "| `deque`             | list-like container with fast appends and pops on either end |\n",
    "| `Counter`\t          | dict subclass for counting hashable objects |\n",
    "| `OrderedDict`       | dict subclass that remembers the order entries were added |\n",
    "| `defaultdict`\t      | dict subclass that calls a factory function to supply missing values |\n",
    "\n",
    "`namedtuple` makes for very nice to use data objects"
   ]
  },
  {
   "cell_type": "code",
   "execution_count": 29,
   "metadata": {},
   "outputs": [],
   "source": [
    "import collections"
   ]
  },
  {
   "cell_type": "code",
   "execution_count": 30,
   "metadata": {},
   "outputs": [
    {
     "name": "stdout",
     "output_type": "stream",
     "text": [
      "DataSet(examples=[[0, 1], [0, 1], [0, 0], [1, 1]], labels=[1, 1, 0, 0])\n",
      "Examples: [[0, 1], [0, 1], [0, 0], [1, 1]]\n",
      "Labels: [1, 1, 0, 0]\n"
     ]
    }
   ],
   "source": [
    "DataSet = collections.namedtuple('DataSet', ['examples', 'labels'])\n",
    "ds = DataSet([[0, 1], [0, 1], [0, 0], [1, 1]], [1, 1, 0, 0])\n",
    "print(ds)\n",
    "\n",
    "print(\"Examples: {}\".format(ds.examples))\n",
    "print(\"Labels: {}\".format(ds.labels))"
   ]
  },
  {
   "cell_type": "markdown",
   "metadata": {},
   "source": [
    "---"
   ]
  },
  {
   "cell_type": "code",
   "execution_count": 31,
   "metadata": {},
   "outputs": [
    {
     "data": {
      "text/plain": [
       "deque([0, 1, 2, 3, 4, 5, 6, 7, 8, 9])"
      ]
     },
     "execution_count": 31,
     "metadata": {},
     "output_type": "execute_result"
    }
   ],
   "source": [
    "# deques are generalisations of stacks and queues. \n",
    "# Deque is short for double ended queue and pronounced 'deck'\n",
    "d = collections.deque(range(10))\n",
    "d"
   ]
  },
  {
   "cell_type": "code",
   "execution_count": 32,
   "metadata": {},
   "outputs": [
    {
     "name": "stdout",
     "output_type": "stream",
     "text": [
      "9\n"
     ]
    },
    {
     "data": {
      "text/plain": [
       "deque([0, 1, 2, 3, 4, 5, 6, 7, 8])"
      ]
     },
     "execution_count": 32,
     "metadata": {},
     "output_type": "execute_result"
    }
   ],
   "source": [
    "print(d.pop())\n",
    "d\n"
   ]
  },
  {
   "cell_type": "code",
   "execution_count": 33,
   "metadata": {},
   "outputs": [
    {
     "data": {
      "text/plain": [
       "deque([1, 2, 3, 4, 5, 6, 7, 8])"
      ]
     },
     "execution_count": 33,
     "metadata": {},
     "output_type": "execute_result"
    }
   ],
   "source": [
    "d.popleft()\n",
    "d"
   ]
  },
  {
   "cell_type": "code",
   "execution_count": 34,
   "metadata": {},
   "outputs": [
    {
     "data": {
      "text/plain": [
       "deque([1, 2, 3, 4, 5, 6, 7, 8, 20])"
      ]
     },
     "execution_count": 34,
     "metadata": {},
     "output_type": "execute_result"
    }
   ],
   "source": [
    "d.append(20)\n",
    "d"
   ]
  },
  {
   "cell_type": "code",
   "execution_count": 35,
   "metadata": {},
   "outputs": [
    {
     "data": {
      "text/plain": [
       "deque([10, 1, 2, 3, 4, 5, 6, 7, 8, 20])"
      ]
     },
     "execution_count": 35,
     "metadata": {},
     "output_type": "execute_result"
    }
   ],
   "source": [
    "d.appendleft(10)\n",
    "d"
   ]
  },
  {
   "cell_type": "markdown",
   "metadata": {},
   "source": [
    "---"
   ]
  },
  {
   "cell_type": "code",
   "execution_count": 36,
   "metadata": {},
   "outputs": [],
   "source": [
    "def default_factory():\n",
    "    return \"\"\n",
    "\n",
    "normal_dict = dict()\n",
    "dict_with_default = collections.defaultdict(default_factory)"
   ]
  },
  {
   "cell_type": "code",
   "execution_count": 37,
   "metadata": {},
   "outputs": [],
   "source": [
    "normal_dict['a'] = 'b'\n",
    "dict_with_default['a'] = 'b'"
   ]
  },
  {
   "cell_type": "code",
   "execution_count": 38,
   "metadata": {},
   "outputs": [
    {
     "data": {
      "text/plain": [
       "'b'"
      ]
     },
     "execution_count": 38,
     "metadata": {},
     "output_type": "execute_result"
    }
   ],
   "source": [
    "normal_dict['a']"
   ]
  },
  {
   "cell_type": "code",
   "execution_count": 39,
   "metadata": {},
   "outputs": [
    {
     "data": {
      "text/plain": [
       "'b'"
      ]
     },
     "execution_count": 39,
     "metadata": {},
     "output_type": "execute_result"
    }
   ],
   "source": [
    "dict_with_default['a']"
   ]
  },
  {
   "cell_type": "code",
   "execution_count": 40,
   "metadata": {},
   "outputs": [
    {
     "ename": "KeyError",
     "evalue": "'c'",
     "output_type": "error",
     "traceback": [
      "\u001b[0;31m---------------------------------------------------------------------------\u001b[0m",
      "\u001b[0;31mKeyError\u001b[0m                                  Traceback (most recent call last)",
      "\u001b[0;32m<ipython-input-40-be3d82be8c6d>\u001b[0m in \u001b[0;36m<module>\u001b[0;34m()\u001b[0m\n\u001b[0;32m----> 1\u001b[0;31m \u001b[0mnormal_dict\u001b[0m\u001b[0;34m[\u001b[0m\u001b[0;34m'c'\u001b[0m\u001b[0;34m]\u001b[0m\u001b[0;34m\u001b[0m\u001b[0m\n\u001b[0m",
      "\u001b[0;31mKeyError\u001b[0m: 'c'"
     ]
    }
   ],
   "source": [
    "normal_dict['c']"
   ]
  },
  {
   "cell_type": "code",
   "execution_count": 41,
   "metadata": {},
   "outputs": [
    {
     "data": {
      "text/plain": [
       "''"
      ]
     },
     "execution_count": 41,
     "metadata": {},
     "output_type": "execute_result"
    }
   ],
   "source": [
    "dict_with_default['c']"
   ]
  },
  {
   "cell_type": "markdown",
   "metadata": {},
   "source": [
    "---"
   ]
  },
  {
   "cell_type": "code",
   "execution_count": 42,
   "metadata": {},
   "outputs": [
    {
     "data": {
      "text/plain": [
       "Counter({'a': 4, 'b': 3, 'c': 1, 'd': 1, 'e': 1})"
      ]
     },
     "execution_count": 42,
     "metadata": {},
     "output_type": "execute_result"
    }
   ],
   "source": [
    "c = collections.Counter(['a', 'a', 'a', 'b', 'b', 'c', 'b', 'd', 'e', 'a'])\n",
    "c"
   ]
  },
  {
   "cell_type": "code",
   "execution_count": 43,
   "metadata": {},
   "outputs": [
    {
     "data": {
      "text/plain": [
       "['a', 'c', 'b', 'e', 'd']"
      ]
     },
     "execution_count": 43,
     "metadata": {},
     "output_type": "execute_result"
    }
   ],
   "source": [
    "c.keys()"
   ]
  },
  {
   "cell_type": "markdown",
   "metadata": {},
   "source": [
    "---"
   ]
  },
  {
   "cell_type": "markdown",
   "metadata": {},
   "source": [
    "## `itertools`\n",
    "\n",
    "`itertools` is a beautiful module for performing operations on iterators (something that iterates over a container, be it a list, tree, or something else). If you like Haskell, definitely take a look at this module.\n",
    "\n",
    "The [documentation](https://docs.python.org/2/library/itertools.html) is excellent and provides a concise table of all the functions and their purposes.\n",
    "\n",
    "All the functions return iterators that can be materialized by calling `list` on the result, however this is inefficient unless you actually need the full result, i.e. you don't need to materialize the iterator if you're going to loop over the element etc."
   ]
  },
  {
   "cell_type": "code",
   "execution_count": 44,
   "metadata": {},
   "outputs": [],
   "source": [
    "import itertools"
   ]
  },
  {
   "cell_type": "code",
   "execution_count": 45,
   "metadata": {},
   "outputs": [
    {
     "data": {
      "text/plain": [
       "['a', 'b', 'c', 'd', 'e', 'f', 'g', 'h']"
      ]
     },
     "execution_count": 45,
     "metadata": {},
     "output_type": "execute_result"
    }
   ],
   "source": [
    "l1 = list('abcdefgh')\n",
    "l1"
   ]
  },
  {
   "cell_type": "code",
   "execution_count": 46,
   "metadata": {},
   "outputs": [
    {
     "data": {
      "text/plain": [
       "[0, 1, 2, 3, 4, 5, 6, 7]"
      ]
     },
     "execution_count": 46,
     "metadata": {},
     "output_type": "execute_result"
    }
   ],
   "source": [
    "l2 = list(range(len(l1)))\n",
    "l2"
   ]
  },
  {
   "cell_type": "code",
   "execution_count": 47,
   "metadata": {},
   "outputs": [
    {
     "data": {
      "text/plain": [
       "[('a', 0),\n",
       " ('b', 1),\n",
       " ('c', 2),\n",
       " ('d', 3),\n",
       " ('e', 4),\n",
       " ('f', 5),\n",
       " ('g', 6),\n",
       " ('h', 7)]"
      ]
     },
     "execution_count": 47,
     "metadata": {},
     "output_type": "execute_result"
    }
   ],
   "source": [
    "zip(l1, l2) # this returns a list (allocating memory)"
   ]
  },
  {
   "cell_type": "code",
   "execution_count": 48,
   "metadata": {},
   "outputs": [
    {
     "data": {
      "text/plain": [
       "<itertools.izip at 0x7fecf00cb0e0>"
      ]
     },
     "execution_count": 48,
     "metadata": {},
     "output_type": "execute_result"
    }
   ],
   "source": [
    "itertools.izip(l1, l2) # returns an iterator taking constant memory"
   ]
  },
  {
   "cell_type": "code",
   "execution_count": 49,
   "metadata": {},
   "outputs": [
    {
     "data": {
      "text/plain": [
       "['a', 'b', 'c', 'd', 'e', 'f', 'g', 'h', 0, 1, 2, 3, 4, 5, 6, 7]"
      ]
     },
     "execution_count": 49,
     "metadata": {},
     "output_type": "execute_result"
    }
   ],
   "source": [
    "list(itertools.chain(l1, l2))"
   ]
  },
  {
   "cell_type": "code",
   "execution_count": 50,
   "metadata": {},
   "outputs": [
    {
     "data": {
      "text/plain": [
       "['a', 'd']"
      ]
     },
     "execution_count": 50,
     "metadata": {},
     "output_type": "execute_result"
    }
   ],
   "source": [
    "list(itertools.compress(l1, [1, 0, 0, 1])) # selectively pull elements out of l1"
   ]
  },
  {
   "cell_type": "code",
   "execution_count": 51,
   "metadata": {},
   "outputs": [
    {
     "data": {
      "text/plain": [
       "['d', 'e', 'f', 'g', 'h']"
      ]
     },
     "execution_count": 51,
     "metadata": {},
     "output_type": "execute_result"
    }
   ],
   "source": [
    "list(itertools.dropwhile(lambda char: char < 'd', l1))"
   ]
  },
  {
   "cell_type": "code",
   "execution_count": 52,
   "metadata": {},
   "outputs": [
    {
     "name": "stdout",
     "output_type": "stream",
     "text": [
      "Grouped by x = 0, values: [Point(x=0, y=0), Point(x=0, y=1), Point(x=0, y=2), Point(x=0, y=3)]\n",
      "Grouped by x = 1, values: [Point(x=1, y=0), Point(x=1, y=1), Point(x=1, y=2), Point(x=1, y=3)]\n",
      "Grouped by x = 2, values: [Point(x=2, y=0), Point(x=2, y=1), Point(x=2, y=2), Point(x=2, y=3)]\n",
      "Grouped by x = 3, values: [Point(x=3, y=0), Point(x=3, y=1), Point(x=3, y=2), Point(x=3, y=3)]\n"
     ]
    }
   ],
   "source": [
    "from collections import namedtuple\n",
    "Point = namedtuple('Point', ['x', 'y'])\n",
    "\n",
    "l = [Point(x, y) for x in range(4) for y in range(4)]\n",
    "\n",
    "points_grouped_by_x = itertools.groupby(l, lambda p: p.x)\n",
    "for i, point_group in points_grouped_by_x:\n",
    "    print(\"Grouped by x = {}, values: {}\".format(i, list(point_group)))\n",
    "    "
   ]
  },
  {
   "cell_type": "code",
   "execution_count": 53,
   "metadata": {},
   "outputs": [
    {
     "data": {
      "text/plain": [
       "['a', 'b', 'c']"
      ]
     },
     "execution_count": 53,
     "metadata": {},
     "output_type": "execute_result"
    }
   ],
   "source": [
    "# same as filter in haskell\n",
    "list(itertools.ifilter(lambda char: char  < 'd', l1))"
   ]
  },
  {
   "cell_type": "code",
   "execution_count": 54,
   "metadata": {},
   "outputs": [
    {
     "data": {
      "text/plain": [
       "['d', 'e', 'f', 'g', 'h']"
      ]
     },
     "execution_count": 54,
     "metadata": {},
     "output_type": "execute_result"
    }
   ],
   "source": [
    "# equivalent to negating predicate in the above example\n",
    "list(itertools.ifilterfalse(lambda char: char  < 'd', l1))"
   ]
  },
  {
   "cell_type": "code",
   "execution_count": 55,
   "metadata": {},
   "outputs": [
    {
     "data": {
      "text/plain": [
       "['b', 'd', 'f']"
      ]
     },
     "execution_count": 55,
     "metadata": {},
     "output_type": "execute_result"
    }
   ],
   "source": [
    "# The iterating version of l1[start:stop:step]\n",
    "list(itertools.islice(l1, 1, 6, 2))"
   ]
  },
  {
   "cell_type": "code",
   "execution_count": 56,
   "metadata": {},
   "outputs": [
    {
     "data": {
      "text/plain": [
       "[0, 1, 4, 9, 16, 25, 36, 49]"
      ]
     },
     "execution_count": 56,
     "metadata": {},
     "output_type": "execute_result"
    }
   ],
   "source": [
    "# iterating version of map. In Python 3 itertools.imap replaces the builtin map\n",
    "list(itertools.imap(lambda x: x**2 , l2))"
   ]
  },
  {
   "cell_type": "code",
   "execution_count": 57,
   "metadata": {},
   "outputs": [
    {
     "data": {
      "text/plain": [
       "[6, 9, 12]"
      ]
     },
     "execution_count": 57,
     "metadata": {},
     "output_type": "execute_result"
    }
   ],
   "source": [
    "# starmap expands nested lists for \n",
    "nested_list = [[1, 2, 3], [2, 3, 4], [3, 4, 5]]\n",
    "list(itertools.starmap(lambda *args: sum(args), nested_list))"
   ]
  },
  {
   "cell_type": "code",
   "execution_count": 58,
   "metadata": {},
   "outputs": [
    {
     "name": "stdout",
     "output_type": "stream",
     "text": [
      "a\n",
      "b\n",
      "c\n",
      "d\n",
      "e\n",
      "f\n",
      "g\n",
      "h\n",
      "\n",
      "Iterating over the same iterator\n",
      "End iterating over the same iterator\n",
      "\n",
      "Iterating over copy 1 of iterator\n",
      "a\n",
      "b\n",
      "c\n",
      "d\n",
      "e\n",
      "f\n",
      "g\n",
      "h\n",
      "End of copy 1\n",
      "\n",
      "Iterating over copy 2 of iterator\n",
      "a\n",
      "b\n",
      "c\n",
      "d\n",
      "e\n",
      "f\n",
      "g\n",
      "h\n",
      "End of copy 2\n",
      "\n"
     ]
    }
   ],
   "source": [
    "# What if we want to duplicate the iterator? \n",
    "# You can't just iterate over the same repeatedly as iterating mutates the interal state of the iterator\n",
    "i1 = iter(l1)\n",
    "for entry in i1:\n",
    "    print(entry)\n",
    "    \n",
    "print(\"\\nIterating over the same iterator\")\n",
    "for entry in i1:\n",
    "    print(entry)\n",
    "print(\"End iterating over the same iterator\\n\")\n",
    "\n",
    "copies = 2\n",
    "iterators = itertools.tee(iter(l1), copies)\n",
    "for i, iterator in enumerate(iterators):\n",
    "    print(\"Iterating over copy {} of iterator\".format(i + 1))\n",
    "    for entry in iterator:\n",
    "        print(entry)\n",
    "    print(\"End of copy {}\\n\".format(i + 1))"
   ]
  },
  {
   "cell_type": "code",
   "execution_count": 59,
   "metadata": {},
   "outputs": [
    {
     "data": {
      "text/plain": [
       "[0, 1, 2, 3, 4]"
      ]
     },
     "execution_count": 59,
     "metadata": {},
     "output_type": "execute_result"
    }
   ],
   "source": [
    "list(itertools.takewhile(lambda x: x < 5, l2))"
   ]
  },
  {
   "cell_type": "markdown",
   "metadata": {},
   "source": [
    "Now for the *combinatoric generators*"
   ]
  },
  {
   "cell_type": "code",
   "execution_count": 60,
   "metadata": {},
   "outputs": [],
   "source": [
    "l1 = list(range(3))\n",
    "l2 = list('abc')"
   ]
  },
  {
   "cell_type": "code",
   "execution_count": 61,
   "metadata": {},
   "outputs": [
    {
     "data": {
      "text/plain": [
       "[(0, 'a'),\n",
       " (0, 'b'),\n",
       " (0, 'c'),\n",
       " (1, 'a'),\n",
       " (1, 'b'),\n",
       " (1, 'c'),\n",
       " (2, 'a'),\n",
       " (2, 'b'),\n",
       " (2, 'c')]"
      ]
     },
     "execution_count": 61,
     "metadata": {},
     "output_type": "execute_result"
    }
   ],
   "source": [
    "list(itertools.product(l1, l2))"
   ]
  },
  {
   "cell_type": "code",
   "execution_count": 62,
   "metadata": {},
   "outputs": [
    {
     "data": {
      "text/plain": [
       "[(0, 1, 2), (0, 2, 1), (1, 0, 2), (1, 2, 0), (2, 0, 1), (2, 1, 0)]"
      ]
     },
     "execution_count": 62,
     "metadata": {},
     "output_type": "execute_result"
    }
   ],
   "source": [
    "list(itertools.permutations(l1))"
   ]
  },
  {
   "cell_type": "code",
   "execution_count": 63,
   "metadata": {},
   "outputs": [
    {
     "data": {
      "text/plain": [
       "[(0, 1), (0, 2), (1, 2)]"
      ]
     },
     "execution_count": 63,
     "metadata": {},
     "output_type": "execute_result"
    }
   ],
   "source": [
    "list(itertools.combinations(l1, 2))"
   ]
  },
  {
   "cell_type": "code",
   "execution_count": 64,
   "metadata": {},
   "outputs": [
    {
     "data": {
      "text/plain": [
       "[(0, 0), (0, 1), (0, 2), (1, 1), (1, 2), (2, 2)]"
      ]
     },
     "execution_count": 64,
     "metadata": {},
     "output_type": "execute_result"
    }
   ],
   "source": [
    "list(itertools.combinations_with_replacement(l1, 2))"
   ]
  },
  {
   "cell_type": "markdown",
   "metadata": {},
   "source": [
    "And finally, the infinite iterators"
   ]
  },
  {
   "cell_type": "code",
   "execution_count": 65,
   "metadata": {},
   "outputs": [
    {
     "data": {
      "text/plain": [
       "[0, 1, 2, 3, 4, 5, 6, 7, 8, 9]"
      ]
     },
     "execution_count": 65,
     "metadata": {},
     "output_type": "execute_result"
    }
   ],
   "source": [
    "list(itertools.takewhile(lambda x: x < 10, itertools.count())) \n",
    "# list(itertools.count()) would hang trying to materialise an infinite list"
   ]
  },
  {
   "cell_type": "code",
   "execution_count": 66,
   "metadata": {},
   "outputs": [
    {
     "name": "stdout",
     "output_type": "stream",
     "text": [
      "0\n",
      "1\n",
      "2\n",
      "0\n",
      "1\n",
      "2\n",
      "0\n",
      "1\n",
      "2\n",
      "0\n",
      "1\n"
     ]
    }
   ],
   "source": [
    "i = 0\n",
    "for x in itertools.cycle(l1):\n",
    "    print(x)\n",
    "    i += 1\n",
    "    if i > 10:\n",
    "        break"
   ]
  },
  {
   "cell_type": "code",
   "execution_count": 67,
   "metadata": {},
   "outputs": [
    {
     "name": "stdout",
     "output_type": "stream",
     "text": [
      "1\n",
      "1\n",
      "1\n",
      "1\n",
      "1\n",
      "1\n",
      "1\n",
      "1\n",
      "1\n",
      "1\n",
      "1\n"
     ]
    }
   ],
   "source": [
    "i = 0\n",
    "for x in itertools.repeat(1):\n",
    "    print(x)\n",
    "    i += 1\n",
    "    if i > 10:\n",
    "        break"
   ]
  },
  {
   "cell_type": "markdown",
   "metadata": {},
   "source": [
    "---"
   ]
  },
  {
   "cell_type": "markdown",
   "metadata": {},
   "source": [
    "## `tempfile`\n",
    "\n",
    "`tempfile` is useful for writing intermediate results to disk, however this might be too slow for you, so check out [`StringIO`](https://docs.python.org/2/library/stringio.html) for memory mapped files.\n",
    "\n",
    "`tempfile` is also useful in unit testing contexts where you have code that operates on files, you can create a temporary directory to exercise the unit under test (although this can be slow as you're hitting a real filesystem, consider using mocks here instead)"
   ]
  },
  {
   "cell_type": "code",
   "execution_count": 68,
   "metadata": {},
   "outputs": [],
   "source": [
    "import tempfile"
   ]
  },
  {
   "cell_type": "code",
   "execution_count": 69,
   "metadata": {},
   "outputs": [
    {
     "name": "stdout",
     "output_type": "stream",
     "text": [
      "Hello World!\n"
     ]
    }
   ],
   "source": [
    "# a temp file exists until it is closed e.g. with `.close()` or on leaving a context manager\n",
    "\n",
    "with tempfile.TemporaryFile() as f:\n",
    "    f.writelines(\"Hello World!\")\n",
    "    f.seek(0)\n",
    "    print(f.readlines()[0])"
   ]
  },
  {
   "cell_type": "code",
   "execution_count": 70,
   "metadata": {},
   "outputs": [
    {
     "name": "stdout",
     "output_type": "stream",
     "text": [
      "/tmp/frame-HeiXBi.png\n"
     ]
    }
   ],
   "source": [
    "# Sometimes you might want the path to the file, in which case use `tempfile.mkdtemp`\n",
    "fd, path = tempfile.mkstemp(prefix='frame-', suffix='.png')\n",
    "print(path)"
   ]
  },
  {
   "cell_type": "code",
   "execution_count": 71,
   "metadata": {},
   "outputs": [
    {
     "name": "stdout",
     "output_type": "stream",
     "text": [
      "/tmp/tmpcpeyYr\n"
     ]
    }
   ],
   "source": [
    "# Directories are supported too\n",
    "path = tempfile.mkdtemp()\n",
    "print(path)"
   ]
  },
  {
   "cell_type": "markdown",
   "metadata": {},
   "source": [
    "---"
   ]
  },
  {
   "cell_type": "markdown",
   "metadata": {},
   "source": [
    "## `cPickle`\n",
    "\n",
    "Got an expensive computation, want to save the result? `cPickle` to the rescue! `cPickle` is a serialisation modules that will *pickle* (serialise) POPOs (plain old python objects) to files, and *unpickle* (deserialise) them back into POPOs."
   ]
  },
  {
   "cell_type": "code",
   "execution_count": 72,
   "metadata": {},
   "outputs": [],
   "source": [
    "import cPickle"
   ]
  },
  {
   "cell_type": "code",
   "execution_count": 73,
   "metadata": {},
   "outputs": [
    {
     "name": "stdout",
     "output_type": "stream",
     "text": [
      "<type 'numpy.ndarray'>\n",
      "1000\n"
     ]
    }
   ],
   "source": [
    "import numpy as np\n",
    "import tempfile\n",
    "xs = np.linspace(0, 5, 1000)\n",
    "\n",
    "with tempfile.TemporaryFile() as f:\n",
    "    cPickle.dump(xs, f)\n",
    "    f.seek(0)\n",
    "    unpickled_xs = cPickle.load(f)\n",
    "    print(type(unpickled_xs))\n",
    "    print(len(unpickled_xs ))"
   ]
  },
  {
   "cell_type": "code",
   "execution_count": 74,
   "metadata": {},
   "outputs": [
    {
     "name": "stdout",
     "output_type": "stream",
     "text": [
      "<type 'numpy.ndarray'>\n",
      "1000\n"
     ]
    }
   ],
   "source": [
    "# Numpy provides some nice helper methods for dumping ndarrays to disk\n",
    "with tempfile.TemporaryFile(suffix='.npy') as f:\n",
    "    np.save(f, xs)\n",
    "    f.seek(0) # rewind file\n",
    "    loaded_xs = np.load(f)\n",
    "    print(type(loaded_xs))\n",
    "    print(len(loaded_xs))\n",
    "    \n",
    "# This is more portable than pickling as numpy persists arrays in its own format which is\n",
    "# portable across python versions whereas pickles are python version depedent\n",
    "\n",
    "# See https://docs.scipy.org/doc/numpy/reference/generated/numpy.save.html for more"
   ]
  },
  {
   "cell_type": "markdown",
   "metadata": {},
   "source": [
    "---"
   ]
  },
  {
   "cell_type": "markdown",
   "metadata": {},
   "source": [
    "## `argparse`\n",
    "\n",
    "This module provides the argument parsing for CLI apps. It's very helpful in data science where you might want to run on different data sets (e.g. train, validation, test), tweak parameters, toggle options etc."
   ]
  },
  {
   "cell_type": "code",
   "execution_count": null,
   "metadata": {},
   "outputs": [],
   "source": [
    "# %load argparse_example.py\n",
    "\n",
    "import os\n",
    "\n",
    "if __name__ == '__main__':\n",
    "    # imports can occur any where in the program\n",
    "    # it is good practice to put module dependencies at the top of the file\n",
    "    # and CLI dependency imports inside the `__name__ == '__main__'` conditional block\n",
    "    # so they are only imported when the script is run as a program and not imported as a library \n",
    "    import argparse\n",
    "    \n",
    "    parser = argparse.ArgumentParser(description='Train CNN on MNIST dataset')\n",
    "    parser.add_argument('dataset-dir', \n",
    "                        type=str, \n",
    "                        help='Directory in which to download')\n",
    "    parser.add_argument('--stride', \n",
    "                        type=str, \n",
    "                        default='2x2')\n",
    "    parser.add_argument('--batch-size', \n",
    "                        type=int, \n",
    "                        default=32)\n",
    "\n",
    "    args = parser.parse_args()\n",
    "    print(args)"
   ]
  },
  {
   "cell_type": "code",
   "execution_count": 2,
   "metadata": {},
   "outputs": [
    {
     "name": "stdout",
     "output_type": "stream",
     "text": [
      "usage: argparse_example.py [-h] [--stride STRIDE] [--batch-size BATCH_SIZE]\n",
      "                           dataset-dir\n",
      "\n",
      "Train CNN on MNIST dataset\n",
      "\n",
      "positional arguments:\n",
      "  dataset-dir           Directory in which to download\n",
      "\n",
      "optional arguments:\n",
      "  -h, --help            show this help message and exit\n",
      "  --stride STRIDE\n",
      "  --batch-size BATCH_SIZE\n"
     ]
    }
   ],
   "source": [
    "%run argparse_example.py --help"
   ]
  },
  {
   "cell_type": "code",
   "execution_count": 3,
   "metadata": {},
   "outputs": [
    {
     "name": "stdout",
     "output_type": "stream",
     "text": [
      "Namespace(batch_size=64, dataset-dir='/tmp/mnist', stride='1x1')\n"
     ]
    }
   ],
   "source": [
    "%run argparse_example /tmp/mnist --stride 1x1 --batch-size 64"
   ]
  },
  {
   "cell_type": "markdown",
   "metadata": {},
   "source": [
    "---"
   ]
  },
  {
   "cell_type": "markdown",
   "metadata": {},
   "source": [
    "## `logging`\n",
    "\n",
    "This module provides a standard logging package for Python, it is expected that all libraries implement logging with this module so that applications have a unified logging stack.\n",
    "\n",
    "You should never use `print` unless you're printing out CLI args help, that's about the only time you *should* use `print`, for everything else use a logger from `logging`."
   ]
  },
  {
   "cell_type": "code",
   "execution_count": 78,
   "metadata": {},
   "outputs": [],
   "source": [
    "import logging"
   ]
  },
  {
   "cell_type": "markdown",
   "metadata": {},
   "source": [
    "Each logger has a `name`, which must adhere to the same naming standards as python packages. Individual loggers form part of a logger hierarchy allowing users to turn logging for components on and off easily.\n"
   ]
  },
  {
   "cell_type": "code",
   "execution_count": 9,
   "metadata": {},
   "outputs": [],
   "source": [
    "# %load logging_example.py\n",
    "#!/usr/bin/env python\n",
    "\n",
    "import logging\n",
    "\n",
    "top_level_logger = logging.getLogger('app')\n",
    "subcomponent_logger = logging.getLogger('app.component')\n",
    "\n",
    "\n",
    "if __name__ == '__main__':\n",
    "    logging.basicConfig(level=logging.DEBUG)\n",
    "\n",
    "    top_level_logger.debug('starting main function')\n",
    "    top_level_logger.info('ready')\n",
    "    subcomponent_logger.debug('initialising')\n",
    "    subcomponent_logger.debug('ready')\n"
   ]
  },
  {
   "cell_type": "code",
   "execution_count": 13,
   "metadata": {},
   "outputs": [
    {
     "name": "stdout",
     "output_type": "stream",
     "text": [
      "DEBUG:app:starting main function\r\n",
      "INFO:app:ready\r\n",
      "DEBUG:app.component:initialising\r\n",
      "DEBUG:app.component:ready\r\n"
     ]
    }
   ],
   "source": [
    "!./logging_example.py"
   ]
  },
  {
   "cell_type": "markdown",
   "metadata": {},
   "source": [
    "---"
   ]
  },
  {
   "cell_type": "markdown",
   "metadata": {},
   "source": [
    "## `doctest`\n",
    "\n",
    "Doctests are examples contained in a [docstring](https://www.python.org/dev/peps/pep-0257/#what-is-a-docstring) that can be run to verify the behaviour of a function. They work quite well for simple idempotent functions.\n",
    "\n",
    "Alternatively the [unittest](https://docs.python.org/2/library/unittest.html) module provides a standard xUnit-style testing library. "
   ]
  },
  {
   "cell_type": "code",
   "execution_count": 80,
   "metadata": {},
   "outputs": [],
   "source": [
    "import doctest"
   ]
  },
  {
   "cell_type": "code",
   "execution_count": 81,
   "metadata": {},
   "outputs": [
    {
     "name": "stdout",
     "output_type": "stream",
     "text": [
      "Trying:\n",
      "    sum(1)\n",
      "Expecting:\n",
      "    1\n",
      "ok\n",
      "Trying:\n",
      "    sum(1, 2)\n",
      "Expecting:\n",
      "    3\n",
      "ok\n",
      "Trying:\n",
      "    sum(3, 0, 8)\n",
      "Expecting:\n",
      "    11\n",
      "ok\n",
      "11 items had no tests:\n",
      "    __main__\n",
      "    __main__.DataSet\n",
      "    __main__.DataSet.__dict__\n",
      "    __main__.DataSet.examples\n",
      "    __main__.DataSet.labels\n",
      "    __main__.Point\n",
      "    __main__.Point.__dict__\n",
      "    __main__.Point.x\n",
      "    __main__.Point.y\n",
      "    __main__.default_factory\n",
      "    __main__.walker\n",
      "1 items passed all tests:\n",
      "   3 tests in __main__.sum\n",
      "3 tests in 12 items.\n",
      "3 passed and 0 failed.\n",
      "Test passed.\n"
     ]
    }
   ],
   "source": [
    "# %load doctest_example.py\n",
    "\n",
    "def sum(*xs):\n",
    "    \"\"\"\n",
    "    Sum the value of all arguments\n",
    "    \n",
    "    >>> sum(1)\n",
    "    1\n",
    "    >>> sum(1, 2)\n",
    "    3\n",
    "    >>> sum(3, 0, 8)\n",
    "    11\n",
    "    \"\"\"\n",
    "    sum = 0\n",
    "    for x in xs:\n",
    "        sum += x\n",
    "    return sum\n",
    "\n",
    "if __name__ == '__main__':\n",
    "    import doctest\n",
    "    doctest.testmod(verbose=True)"
   ]
  },
  {
   "cell_type": "code",
   "execution_count": 14,
   "metadata": {},
   "outputs": [
    {
     "name": "stdout",
     "output_type": "stream",
     "text": [
      "Trying:\n",
      "    sum(1)\n",
      "Expecting:\n",
      "    1\n",
      "ok\n",
      "Trying:\n",
      "    sum(1, 2)\n",
      "Expecting:\n",
      "    3\n",
      "ok\n",
      "Trying:\n",
      "    sum(3, 0, 8)\n",
      "Expecting:\n",
      "    11\n",
      "ok\n",
      "1 items had no tests:\n",
      "    __main__\n",
      "1 items passed all tests:\n",
      "   3 tests in __main__.sum\n",
      "3 tests in 2 items.\n",
      "3 passed and 0 failed.\n",
      "Test passed.\n"
     ]
    }
   ],
   "source": [
    "%run doctest_example.py"
   ]
  },
  {
   "cell_type": "markdown",
   "metadata": {},
   "source": [
    "As you can see the examples in the docstring take the form of a REPL session. `>>>` lines prefix the input and the output from the function invocation appears directly below."
   ]
  },
  {
   "cell_type": "markdown",
   "metadata": {},
   "source": [
    "---"
   ]
  },
  {
   "cell_type": "markdown",
   "metadata": {},
   "source": [
    "## `pdb`\n",
    "\n",
    "`pdb` is the python debugger. If you're coming from a `gdb` background you're going to be surprised. Unlike gdb where you point it at a binary and tell it to break on a specific line, `pdb` is imported into the source code and a new statement is added to the program to trigger a breakpoint."
   ]
  },
  {
   "cell_type": "code",
   "execution_count": 83,
   "metadata": {},
   "outputs": [],
   "source": [
    "d = {\n",
    "    'a': 1,\n",
    "    'b': 2\n",
    "}\n",
    "# TODO: Uncomment line below and run code\n",
    "#import pdb; pdb.set_trace()"
   ]
  },
  {
   "cell_type": "code",
   "execution_count": 84,
   "metadata": {},
   "outputs": [
    {
     "name": "stdout",
     "output_type": "stream",
     "text": [
      "Automatic pdb calling has been turned ON\n"
     ]
    }
   ],
   "source": [
    "# Using the ipython `%pdb` magic you can drop into a pdb prompt\n",
    "# when an exception \n",
    "%pdb on\n",
    "\n",
    "d = {\n",
    "    'a': 1,\n",
    "    'b': 2\n",
    "}\n",
    "# Trigger `KeyError` exception which will cause Jupyter to drop into pdb debugger\n",
    "# TODO: Uncomment line below\n",
    "#print(d['c'])"
   ]
  },
  {
   "cell_type": "markdown",
   "metadata": {},
   "source": [
    "---"
   ]
  }
 ],
 "metadata": {
  "kernelspec": {
   "display_name": "Python 2",
   "language": "python",
   "name": "python2"
  },
  "language_info": {
   "codemirror_mode": {
    "name": "ipython",
    "version": 2
   },
   "file_extension": ".py",
   "mimetype": "text/x-python",
   "name": "python",
   "nbconvert_exporter": "python",
   "pygments_lexer": "ipython2",
   "version": "2.7.14"
  }
 },
 "nbformat": 4,
 "nbformat_minor": 2
}
