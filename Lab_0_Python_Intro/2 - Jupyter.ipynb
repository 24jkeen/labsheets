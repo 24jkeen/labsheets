{
 "cells": [
  {
   "cell_type": "markdown",
   "metadata": {},
   "source": [
    "# Do I need to read this?\n",
    "\n",
    "Read through the notebook if any of the following is not true\n",
    "\n",
    "* I know how to add cells containing code\n",
    "* I know how to execute cells containing code\n",
    "* I know how to add cells containing markdown\n",
    "* I know what *cell* and *line* magic commands are and how they can be useful\n",
    "* I know how to bring up a cheatsheet listing common IPython commands\n",
    "* I know how to bring up the documentation for a given python function in an overlay window"
   ]
  },
  {
   "cell_type": "markdown",
   "metadata": {},
   "source": [
    "# Introduction to Jupyter\n",
    "\n",
    "[Jupyter](https://jupyter.org/) is one of the best projects to emerge from the scientific Python community. It is an interactive notebook containing code interspersed with text. It is the perfect environment for learning Python as it allows you try out little code snippets and write notes as you go.\n",
    "\n",
    "A Jupyter notebook is composed of a collection of cells, each of which either contains code, or text (in the [markdown format](https://github.com/adam-p/markdown-here/wiki/Markdown-Cheatsheet)). Cells are added by clicking the **+** button on the toolbar ribbon. You can also use the drop down menu in the toolbar ribbon to toggle the cell type between code and text\n",
    "\n",
    "Once you have written some Python in a cell you can execute it and inspect its output by pressing `<Ctrl-Enter>`. Try changing the message in the `print` invocation below from `\"Hello World\"` to `\"Kon'nichiwa\"` on the cell below and executing the cell."
   ]
  },
  {
   "cell_type": "code",
   "execution_count": 1,
   "metadata": {},
   "outputs": [
    {
     "name": "stdout",
     "output_type": "stream",
     "text": [
      "Hello world\n"
     ]
    }
   ],
   "source": [
    "print(\"Hello world\")"
   ]
  },
  {
   "cell_type": "markdown",
   "metadata": {},
   "source": [
    "Each cell is executed in a global python context (think of each cell like a multi-line entry in the Python REPL) so variables can be accessed across cells.\n",
    "\n",
    "All cells in the notebook can be run selecting `Cell > Run all`, this will run the cells from the top of the notebook to the bottom.\n",
    "\n",
    "So how is Jupyter notebook superior to the Python REPL?\n",
    "\n",
    "Well it has autocompletion for a start, in the cell below add a new line after the import and type `np.` and the press `<Tab>`, notice how it lists all the member of the `numpy` module."
   ]
  },
  {
   "cell_type": "code",
   "execution_count": 2,
   "metadata": {},
   "outputs": [],
   "source": [
    "import numpy as np"
   ]
  },
  {
   "cell_type": "markdown",
   "metadata": {},
   "source": [
    "To fully [grok](https://en.wikipedia.org/wiki/Grok) Jupyter you need to learn a little bit about its architecture. Initially Jupyter started off as the IPython project, an interactive python console, which later evolved a web based notebook (the ancestor of Jupyter Notebook). As IPython took off in the data science community, people observed that it could be useful not just for Python but also for other languages and so the concept of a [*Kernel*](https://github.com/jupyter/jupyter/wiki/Jupyter-kernels) was born. In 2014 Jupyter was announced as a spinout of the IPython project separating the IPython features (Python execution and the IPython python module) from the language independent features such as the notebook and console.\n",
    "\n",
    "IPython refers to the [Python language kernel](http://ipython.readthedocs.io/en/stable/install/kernel_install.html) and the [IPython python module](http://ipython.readthedocs.io/en/stable/api/index.html) which provides useful functions like [`display`](http://ipython.readthedocs.io/en/stable/api/generated/IPython.display.html?highlight=display#IPython.display.display)."
   ]
  },
  {
   "cell_type": "markdown",
   "metadata": {},
   "source": [
    "You can also time code with ease:"
   ]
  },
  {
   "cell_type": "code",
   "execution_count": 3,
   "metadata": {},
   "outputs": [
    {
     "name": "stdout",
     "output_type": "stream",
     "text": [
      "100 loops, best of 3: 1.83 ms per loop\n"
     ]
    }
   ],
   "source": [
    "def some_expensive_comutation():\n",
    "    return \"-\".join(str(n) for n in range(10000))\n",
    "\n",
    "%timeit some_expensive_comutation()"
   ]
  },
  {
   "cell_type": "markdown",
   "metadata": {},
   "source": [
    "The `%timeit` clause isn't python, but an [IPython line magic](http://ipython.readthedocs.io/en/stable/interactive/magics.html), there are a whole bunch of line magics for performing useful actions like changing the directory that the code executes in, pasting cell contents to a github gist, running in the python debugging `pdb`, and so on.\n",
    "\n",
    "Some of my favourites are:\n",
    "\n",
    "* [`%cd`](http://ipython.readthedocs.io/en/stable/interactive/magics.html#magic-cd)\n",
    "* [`%env`](http://ipython.readthedocs.io/en/stable/interactive/magics.html#magic-env)\n",
    "* [`%load`](http://ipython.readthedocs.io/en/stable/interactive/magics.html#magic-load)\n",
    "* [`%matplotlib`](http://ipython.readthedocs.io/en/stable/interactive/magics.html#magic-matplotlib)\n",
    "* [`%pastebin`](http://ipython.readthedocs.io/en/stable/interactive/magics.html#magic-pastebin)\n",
    "* [`%pdb`](http://ipython.readthedocs.io/en/stable/interactive/magics.html#magic-pdb)\n",
    "* [`%precision`](http://ipython.readthedocs.io/en/stable/interactive/magics.html#magic-precision)\n",
    "* [`%prun`](http://ipython.readthedocs.io/en/stable/interactive/magics.html#magic-prun)\n",
    "* [`%psearch`](http://ipython.readthedocs.io/en/stable/interactive/magics.html#magic-psearch)\n",
    "* [`%quickref`](http://ipython.readthedocs.io/en/stable/interactive/magics.html#magic-quickref)\n",
    "* [`%reset`](http://ipython.readthedocs.io/en/stable/interactive/magics.html#magic-reset)\n",
    "* [`%who`](http://ipython.readthedocs.io/en/stable/interactive/magics.html#magic-who)\n",
    "\n",
    "If you're ever stuck or can't remember some useful feature of Jupyter you should first run `%quickref` to see whether its listed in the quick ref documentation accessible through Jupyter, try it out by running the cell below:"
   ]
  },
  {
   "cell_type": "code",
   "execution_count": 4,
   "metadata": {},
   "outputs": [],
   "source": [
    "%quickref"
   ]
  },
  {
   "cell_type": "markdown",
   "metadata": {},
   "source": [
    "In addition to line magics, there are also [*cell magics*](http://ipython.readthedocs.io/en/stable/interactive/magics.html#cell-magics) denoted by commands prefixed with `%%` at the beginning of a cell.\n",
    "\n",
    "Cell magics are used for changing the execution language of a given cell, or performing some different action.\n",
    "\n",
    "I use the following cell magics regularly\n",
    "\n",
    "* [`%%html`](http://ipython.readthedocs.io/en/stable/interactive/magics.html#cellmagic-sh)\n",
    "* [`%%bash`](http://ipython.readthedocs.io/en/stable/interactive/magics.html#cellmagic-bash)\n",
    "* [`%%writefile`](http://ipython.readthedocs.io/en/stable/interactive/magics.html#cellmagic-writefile)"
   ]
  },
  {
   "cell_type": "markdown",
   "metadata": {},
   "source": [
    "When working with new APIs its common to have to reference to the documentation frequently to understand how to use a function or class. IPython makes this really easy with the `?` and `??` suffixes which can be given applied any python object to bring up the docs in a subwindow"
   ]
  },
  {
   "cell_type": "code",
   "execution_count": 5,
   "metadata": {},
   "outputs": [],
   "source": [
    "# Show the docs for np.ravel\n",
    "np.ravel?"
   ]
  },
  {
   "cell_type": "code",
   "execution_count": 6,
   "metadata": {},
   "outputs": [],
   "source": [
    "# Show the docs *and* source code for np.ravel\n",
    "np.ravel??"
   ]
  },
  {
   "cell_type": "markdown",
   "metadata": {},
   "source": [
    "One of the benefits of working in the Python REPL is that you can easy pause the session with `<Ctrl-z>`, run a shell command and return back to the REPL with `fg`. We can do something similar in Jupyter by using the `!` line magic"
   ]
  },
  {
   "cell_type": "code",
   "execution_count": 7,
   "metadata": {},
   "outputs": [
    {
     "name": "stdout",
     "output_type": "stream",
     "text": [
      "total 1004\r\n",
      "drwxr-xr-x 4 will will   4096 Oct  2 21:47  .\r\n",
      "drwxr-xr-x 4 will will   4096 Oct  2 21:28  ..\r\n",
      "-rw-r--r-- 1 will will   2007 Oct  2 21:47 '0 - Contents.ipynb'\r\n",
      "-rw-r--r-- 1 will will   4603 Oct  2 21:47 '1 - Installation.ipynb'\r\n",
      "-rw-r--r-- 1 will will  11018 Oct  2 21:25 '2 - Jupyter.ipynb'\r\n",
      "-rw-r--r-- 1 will will  51868 Oct  2 21:25 '3 - The Python Language.ipynb'\r\n",
      "-rw-r--r-- 1 will will  48513 Oct  2 21:25 '4 - The Standard Library.ipynb'\r\n",
      "-rw-r--r-- 1 will will   7194 Oct  2 21:25 '5 - Tooling - IDEs and Editors.ipynb'\r\n",
      "-rw-r--r-- 1 will will 758854 Oct  2 21:47 '6 - Scientific Python Libraries.ipynb'\r\n",
      "-rw-r--r-- 1 will will    862 Oct  2 21:25  argparse_example.py\r\n",
      "-rwxr-xr-x 1 will will    192 Oct  2 21:25  build.sh\r\n",
      "-rw-r--r-- 1 will will    285 Oct  2 21:25  doctest_example.py\r\n",
      "-rw-r--r-- 1 will will  62887 Oct  2 21:25  example-matplotlib-fig.pdf\r\n",
      "-rw-r--r-- 1 will will  27498 Oct  2 21:25  example-matplotlib-fig.png\r\n",
      "-rw-r--r-- 1 will will     29 Oct  2 21:25  .gitignore\r\n",
      "drwxr-xr-x 2 will will   4096 Oct  2 21:25  .ipynb_checkpoints\r\n",
      "-rw-r--r-- 1 will will     17 Oct  2 21:25  lines.txt\r\n",
      "drwxr-xr-x 2 will will   4096 Oct  2 21:32  media\r\n"
     ]
    }
   ],
   "source": [
    "!ls -al"
   ]
  },
  {
   "cell_type": "markdown",
   "metadata": {},
   "source": [
    "Finally, there is loads of great documentation out for IPython and Jupyter to learn more. Jupyter functions as a wonderful research playground for prototyping little ideas and learning new libraries, I heartily recommend learning it.\n",
    "\n",
    "Here are a few links to start you off...\n",
    "\n",
    "* https://www.dataquest.io/blog/jupyter-notebook-tips-tricks-shortcuts/\n",
    "* https://ipython.org/ipython-doc/3/interactive/reference.html#interactive-demos\n",
    "* https://github.com/jbwhit/jupyter-tips-and-tricks/tree/master/deliver"
   ]
  },
  {
   "cell_type": "markdown",
   "metadata": {},
   "source": [
    "---"
   ]
  }
 ],
 "metadata": {
  "kernelspec": {
   "display_name": "Python 2",
   "language": "python",
   "name": "python2"
  },
  "language_info": {
   "codemirror_mode": {
    "name": "ipython",
    "version": 2
   },
   "file_extension": ".py",
   "mimetype": "text/x-python",
   "name": "python",
   "nbconvert_exporter": "python",
   "pygments_lexer": "ipython2",
   "version": "2.7.13"
  }
 },
 "nbformat": 4,
 "nbformat_minor": 2
}
